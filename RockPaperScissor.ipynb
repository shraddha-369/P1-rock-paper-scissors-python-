{
  "nbformat": 4,
  "nbformat_minor": 0,
  "metadata": {
    "colab": {
      "provenance": [],
      "authorship_tag": "ABX9TyNJUSNw4xWcThkPdMuNyBLS",
      "include_colab_link": true
    },
    "kernelspec": {
      "name": "python3",
      "display_name": "Python 3"
    },
    "language_info": {
      "name": "python"
    }
  },
  "cells": [
    {
      "cell_type": "markdown",
      "metadata": {
        "id": "view-in-github",
        "colab_type": "text"
      },
      "source": [
        "<a href=\"https://colab.research.google.com/github/shraddha-369/P1-rock-paper-scissors-python-/blob/main/RockPaperScissor.ipynb\" target=\"_parent\"><img src=\"https://colab.research.google.com/assets/colab-badge.svg\" alt=\"Open In Colab\"/></a>"
      ]
    },
    {
      "cell_type": "code",
      "execution_count": 1,
      "metadata": {
        "colab": {
          "base_uri": "https://localhost:8080/"
        },
        "id": "ZpqXdtLEu4JV",
        "outputId": "220d2cd7-c08d-40c1-c186-e2e6f158d691"
      },
      "outputs": [
        {
          "output_type": "stream",
          "name": "stdout",
          "text": [
            "Enter a choice (rock, paper, scissors): rock\n",
            "\n",
            "Player: rock\n",
            "Computer: paper\n",
            "You lose!\n",
            "\n",
            "Play again? (y/n): y\n",
            "Enter a choice (rock, paper, scissors): stone\n",
            "Enter a choice (rock, paper, scissors): paper\n",
            "\n",
            "Player: paper\n",
            "Computer: rock\n",
            "You win!\n",
            "\n",
            "Play again? (y/n): y\n",
            "Enter a choice (rock, paper, scissors): scissors\n",
            "\n",
            "Player: scissors\n",
            "Computer: rock\n",
            "You lose!\n",
            "\n",
            "Play again? (y/n): n\n",
            "\n",
            "Thanks for playing!\n"
          ]
        }
      ],
      "source": [
        "# Rock Paper Scissors Game in Colab\n",
        "import random\n",
        "\n",
        "# Game options\n",
        "options = (\"rock\", \"paper\", \"scissors\")\n",
        "playing = True\n",
        "\n",
        "while playing:\n",
        "    player = None\n",
        "    computer = random.choice(options)\n",
        "\n",
        "    # Player input\n",
        "    while player not in options:\n",
        "        player = input(\"Enter a choice (rock, paper, scissors): \").lower()\n",
        "\n",
        "    print(f\"\\nPlayer: {player}\")\n",
        "    print(f\"Computer: {computer}\")\n",
        "\n",
        "    # Game logic\n",
        "    if player == computer:\n",
        "        print(\"It's a tie!\")\n",
        "    elif player == \"rock\" and computer == \"scissors\":\n",
        "        print(\"You win!\")\n",
        "    elif player == \"paper\" and computer == \"rock\":\n",
        "        print(\"You win!\")\n",
        "    elif player == \"scissors\" and computer == \"paper\":\n",
        "        print(\"You win!\")\n",
        "    else:\n",
        "        print(\"You lose!\")\n",
        "\n",
        "    # Play again prompt\n",
        "    play_again = input(\"\\nPlay again? (y/n): \").lower()\n",
        "    if play_again != \"y\":\n",
        "        playing = False\n",
        "\n",
        "print(\"\\nThanks for playing!\")\n"
      ]
    },
    {
      "cell_type": "code",
      "source": [],
      "metadata": {
        "id": "z-Aqi7NkvkRc"
      },
      "execution_count": null,
      "outputs": []
    }
  ]
}